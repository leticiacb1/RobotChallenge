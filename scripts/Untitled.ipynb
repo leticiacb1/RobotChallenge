{
 "cells": [
  {
   "cell_type": "markdown",
   "metadata": {},
   "source": [
    "## Para conferir se o programa está rodando adequadamente rode o programa as células abaixo"
   ]
  },
  {
   "cell_type": "code",
   "execution_count": null,
   "metadata": {},
   "outputs": [
    {
     "name": "stdout",
     "output_type": "stream",
     "text": [
      "... logging to /home/borg/.ros/log/cdc8ed42-48f8-11ec-b451-3ddf707fd6d8/roslaunch-borg-25030.log\n",
      "Checking log directory for disk usage. This may take a while.\n",
      "Press Ctrl-C to interrupt\n",
      "Done checking log file disk usage. Usage is <1GB.\n",
      "\u001b]2;/home/borg/catkin_ws/src/my_simulation/launch/trevo.launch\u0007\n",
      "\u001b[1mstarted roslaunch server http://borg:42157/\u001b[0m\n",
      "\n",
      "SUMMARY\n",
      "========\n",
      "\n",
      "PARAMETERS\n",
      " * /gazebo/enable_ros_network: True\n",
      " * /gazebo_ros_control/pid_gains/joint3/antiwindup: False\n",
      " * /gazebo_ros_control/pid_gains/joint3/d: 0.0\n",
      " * /gazebo_ros_control/pid_gains/joint3/i: 0.0\n",
      " * /gazebo_ros_control/pid_gains/joint3/i_clamp_max: 0.0\n",
      " * /gazebo_ros_control/pid_gains/joint3/i_clamp_min: -0.2\n",
      " * /gazebo_ros_control/pid_gains/joint3/p: 10.0\n",
      " * /gazebo_ros_control/pid_gains/joint3/publish_state: True\n",
      " * /joint1_position_controller/joint: joint1\n",
      " * /joint1_position_controller/pid/d: 0.0\n",
      " * /joint1_position_controller/pid/i: 0.0\n",
      " * /joint1_position_controller/pid/p: 200.0\n",
      " * /joint1_position_controller/type: effort_controller...\n",
      " * /joint2_position_controller/joint: joint2\n",
      " * /joint2_position_controller/pid/d: 0.0\n",
      " * /joint2_position_controller/pid/i: 0.0\n",
      " * /joint2_position_controller/pid/i_clamp: 0.2\n",
      " * /joint2_position_controller/pid/p: 10.0\n",
      " * /joint2_position_controller/type: effort_controller...\n",
      " * /joint_state_controller/publish_rate: 1000\n",
      " * /joint_state_controller/type: joint_state_contr...\n",
      " * /robot_description: <?xml version=\"1....\n",
      " * /rosdistro: noetic\n",
      " * /rosversion: 1.15.9\n",
      " * /use_sim_time: True\n",
      "\n",
      "NODES\n",
      "  /\n",
      "    arm_controller_spawner (controller_manager/controller_manager)\n",
      "    gazebo (gazebo_ros/gzserver)\n",
      "    gazebo_gui (gazebo_ros/gzclient)\n",
      "    joint_state_controller_spawner (controller_manager/controller_manager)\n",
      "    mybot_spawn (gazebo_ros/spawn_model)\n",
      "\n",
      "auto-starting new master\n",
      "\u001b[1mprocess[master]: started with pid [25040]\u001b[0m\n",
      "\u001b[1mROS_MASTER_URI=http://localhost:11311\u001b[0m\n",
      "\u001b]2;/home/borg/catkin_ws/src/my_simulation/launch/trevo.launch http://localhost:11311\u0007\n",
      "\u001b[1msetting /run_id to cdc8ed42-48f8-11ec-b451-3ddf707fd6d8\u001b[0m\n",
      "\u001b[1mprocess[rosout-1]: started with pid [25056]\u001b[0m\n",
      "started core service [/rosout]\n",
      "\u001b[1mprocess[gazebo-2]: started with pid [25063]\u001b[0m\n",
      "\u001b[1mprocess[gazebo_gui-3]: started with pid [25068]\u001b[0m\n",
      "\u001b[1mprocess[mybot_spawn-4]: started with pid [25073]\u001b[0m\n",
      "\u001b[1mprocess[joint_state_controller_spawner-5]: started with pid [25074]\u001b[0m\n",
      "\u001b[1mprocess[arm_controller_spawner-6]: started with pid [25075]\u001b[0m\n",
      "[INFO] [1637299399.613604, 0.000000]: Loading model XML from ros parameter robot_description\n",
      "[INFO] [1637299399.623488, 0.000000]: Waiting for service /gazebo/spawn_urdf_model\n",
      "\u001b[0m[ INFO] [1637299399.849603432]: Finished loading Gazebo ROS API Plugin.\u001b[0m\n",
      "\u001b[0m[ INFO] [1637299399.850673855]: waitForService: Service [/gazebo/set_physics_properties] has not been advertised, waiting...\u001b[0m\n",
      "\u001b[0m[ INFO] [1637299399.921608270]: Finished loading Gazebo ROS API Plugin.\u001b[0m\n",
      "\u001b[0m[ INFO] [1637299399.922729172]: waitForService: Service [/gazebo_gui/set_physics_properties] has not been advertised, waiting...\u001b[0m\n",
      "\u001b[1m[arm_controller_spawner-6] process has finished cleanly\n",
      "log file: /home/borg/.ros/log/cdc8ed42-48f8-11ec-b451-3ddf707fd6d8/arm_controller_spawner-6*.log\u001b[0m\n",
      "\u001b[0m[ INFO] [1637299400.970166777]: waitForService: Service [/gazebo/set_physics_properties] is now available.\u001b[0m\n",
      "\u001b[0m[ INFO] [1637299400.986003381]: Physics dynamic reconfigure ready.\u001b[0m\n",
      "[INFO] [1637299401.134298, 0.000000]: Calling service /gazebo/spawn_urdf_model\n",
      "\u001b[1;33mWarning [Model.cc:212]\u001b[0m Non-unique names detected in XML children of model with name[creeper_11_laranja_radom_clone_0].\n",
      "\u001b[1;33mWarning [Model.cc:212]\u001b[0m Non-unique names detected in XML children of model with name[creeper_12_azul_radom_clone_0].\n",
      "\u001b[1;33mWarning [Model.cc:212]\u001b[0m Non-unique names detected in XML children of model with name[creeper_13_verde_radom_clone_0].\n",
      "\u001b[1;33mWarning [Model.cc:212]\u001b[0m Non-unique names detected in XML children of model with name[creeper_21_verde_radom_clone_0].\n",
      "\u001b[0m[ INFO] [1637299401.992695326, 0.001000000]: Camera Plugin: Using the 'robotNamespace' param: '/'\u001b[0m\n",
      "\u001b[0m[ INFO] [1637299401.995269654, 0.001000000]: Camera Plugin (ns = /)  <tf_prefix_>, set to \"\"\u001b[0m\n",
      "[INFO] [1637299402.093755, 0.001000]: Spawn status: SpawnModel: Successfully spawned entity\n",
      "\u001b[0m[ INFO] [1637299402.098633290, 0.001000000]: Laser Plugin: Using the 'robotNamespace' param: '/'\u001b[0m\n",
      "\u001b[0m[ INFO] [1637299402.098709657, 0.001000000]: Starting Laser Plugin (ns = /)\u001b[0m\n",
      "\u001b[0m[ INFO] [1637299402.099677513, 0.001000000]: Laser Plugin (ns = /)  <tf_prefix_>, set to \"\"\u001b[0m\n",
      "\u001b[0m[ INFO] [1637299402.142010759, 0.001000000]: Starting plugin DiffDrive(ns = //)\u001b[0m\n",
      "\u001b[0m[ INFO] [1637299402.142102863, 0.001000000]: DiffDrive(ns = //): <rosDebugLevel> = na\u001b[0m\n",
      "\u001b[0m[ INFO] [1637299402.142857072, 0.001000000]: DiffDrive(ns = //): <tf_prefix> = \u001b[0m\n",
      "\u001b[0m[ INFO] [1637299402.143707403, 0.001000000]: DiffDrive(ns = //): Advertise joint_states\u001b[0m\n",
      "\u001b[0m[ INFO] [1637299402.144222641, 0.001000000]: DiffDrive(ns = //): Try to subscribe to cmd_vel\u001b[0m\n",
      "\u001b[0m[ INFO] [1637299402.145798592, 0.001000000]: DiffDrive(ns = //): Subscribe to cmd_vel\u001b[0m\n",
      "\u001b[0m[ INFO] [1637299402.146228857, 0.001000000]: DiffDrive(ns = //): Advertise odom on odom \u001b[0m\n",
      "\u001b[0m[ INFO] [1637299402.157283946, 0.001000000]: imu plugin missing <frameName>, defaults to <bodyName>\u001b[0m\n",
      "\u001b[0m[ INFO] [1637299402.179706578, 0.001000000]: Loading gazebo_ros_control plugin\u001b[0m\n",
      "\u001b[0m[ INFO] [1637299402.179893501, 0.001000000]: Starting gazebo_ros_control plugin in namespace: /\u001b[0m\n",
      "\u001b[0m[ INFO] [1637299402.181111213, 0.001000000]: gazebo_ros_control plugin is waiting for model URDF in parameter [robot_description] on the ROS param server.\u001b[0m\n",
      "\u001b[0m[ INFO] [1637299402.298965232, 0.001000000]: Loaded gazebo_ros_control.\u001b[0m\n",
      "\u001b[0m[ INFO] [1637299402.321635400, 0.001000000]: MimicJointPlugin loaded! Joint: \"joint2\", Mimic joint: \"joint3\", Multiplier: 1, Offset: 0, MaxEffort: 1, Sensitiveness: 0\u001b[0m\n",
      "\u001b[1;33mWarning [Model.cc:212]\u001b[0m Non-unique names detected in XML children of model with name[creeper_21_laranja_radom_clone_0].\n",
      "\u001b[1;33mWarning [Model.cc:212]\u001b[0m Non-unique names detected in XML children of model with name[creeper_22_azul_radom_clone_0].\n",
      "\u001b[1;33mWarning [Model.cc:212]\u001b[0m Non-unique names detected in XML children of model with name[creeper_23_verde_radom_clone_0].\n",
      "\u001b[1;33mWarning [Model.cc:212]\u001b[0m Non-unique names detected in XML children of model with name[creeper_51_azul_radom_clone_0].\n",
      "\u001b[1;33mWarning [Model.cc:212]\u001b[0m Non-unique names detected in XML children of model with name[creeper_52_verde_radom_clone_0].\n",
      "Loaded 'joint_state_controller'\n",
      "Started ['joint_state_controller'] successfully\n",
      "\u001b[1m[mybot_spawn-4] process has finished cleanly\n",
      "log file: /home/borg/.ros/log/cdc8ed42-48f8-11ec-b451-3ddf707fd6d8/mybot_spawn-4*.log\u001b[0m\n",
      "\u001b[1m[joint_state_controller_spawner-5] process has finished cleanly\n",
      "log file: /home/borg/.ros/log/cdc8ed42-48f8-11ec-b451-3ddf707fd6d8/joint_state_controller_spawner-5*.log\u001b[0m\n"
     ]
    }
   ],
   "source": [
    "!roslaunch my_simulation trevo.launch"
   ]
  },
  {
   "cell_type": "code",
   "execution_count": null,
   "metadata": {},
   "outputs": [],
   "source": [
    "!roslaunch mybot_description mybot_control2.launch "
   ]
  },
  {
   "cell_type": "code",
   "execution_count": null,
   "metadata": {},
   "outputs": [],
   "source": [
    "!rosrun projeto_reverie estacao.py"
   ]
  },
  {
   "cell_type": "code",
   "execution_count": null,
   "metadata": {},
   "outputs": [],
   "source": [
    "!rosrun projeto_reverie robo.py"
   ]
  }
 ],
 "metadata": {
  "kernelspec": {
   "display_name": "Python 3",
   "language": "python",
   "name": "python3"
  },
  "language_info": {
   "codemirror_mode": {
    "name": "ipython",
    "version": 3
   },
   "file_extension": ".py",
   "mimetype": "text/x-python",
   "name": "python",
   "nbconvert_exporter": "python",
   "pygments_lexer": "ipython3",
   "version": "3.8.10"
  }
 },
 "nbformat": 4,
 "nbformat_minor": 4
}
